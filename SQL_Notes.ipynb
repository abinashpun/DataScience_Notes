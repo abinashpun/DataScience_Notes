{
 "cells": [
  {
   "cell_type": "markdown",
   "id": "df076dd8-16db-4178-8c5b-13fb4b13f0e1",
   "metadata": {},
   "source": [
    "### Import Necessary ENVIRONMENT VARIABLES from OS\n",
    "(You need to set up these beforehand)"
   ]
  },
  {
   "cell_type": "code",
   "execution_count": 1,
   "id": "6cf28c79-4427-4cc2-9ae3-ac3f1afa9225",
   "metadata": {},
   "outputs": [],
   "source": [
    "import os\n",
    "host = os.getenv('MYSQL_HOST')\n",
    "port = os.getenv('MYSQL_PORT')\n",
    "user = \"root\"\n",
    "password = os.getenv('MYSQL_PASSWORD')"
   ]
  },
  {
   "cell_type": "code",
   "execution_count": 2,
   "id": "2bf309e8-ad6f-4c12-86d6-bbb880e27624",
   "metadata": {},
   "outputs": [],
   "source": [
    "# print(host)\n",
    "# print(user)\n",
    "# print(password)"
   ]
  },
  {
   "cell_type": "markdown",
   "id": "c9f502b5-0333-4f4a-aa01-494e86183fa8",
   "metadata": {},
   "source": [
    "\n",
    "\n",
    "### Install and Import the connector for python"
   ]
  },
  {
   "cell_type": "code",
   "execution_count": 3,
   "id": "1983f0ec-81bd-44cf-8366-57cf3b2dad4e",
   "metadata": {},
   "outputs": [
    {
     "name": "stdout",
     "output_type": "stream",
     "text": [
      "Requirement already satisfied: mysql-connector-python in /opt/homebrew/lib/python3.10/site-packages (8.0.33)\n",
      "Requirement already satisfied: protobuf<=3.20.3,>=3.11.0 in /opt/homebrew/lib/python3.10/site-packages (from mysql-connector-python) (3.20.3)\n",
      "\n",
      "\u001b[1m[\u001b[0m\u001b[34;49mnotice\u001b[0m\u001b[1;39;49m]\u001b[0m\u001b[39;49m A new release of pip available: \u001b[0m\u001b[31;49m22.3.1\u001b[0m\u001b[39;49m -> \u001b[0m\u001b[32;49m23.1.2\u001b[0m\n",
      "\u001b[1m[\u001b[0m\u001b[34;49mnotice\u001b[0m\u001b[1;39;49m]\u001b[0m\u001b[39;49m To update, run: \u001b[0m\u001b[32;49mpython3.10 -m pip install --upgrade pip\u001b[0m\n"
     ]
    }
   ],
   "source": [
    "import sys\n",
    "!{sys.executable} -m pip install mysql-connector-python"
   ]
  },
  {
   "cell_type": "code",
   "execution_count": 4,
   "id": "1b83da4b-1d1f-4637-8bbb-5349bd19cec0",
   "metadata": {},
   "outputs": [],
   "source": [
    "import mysql.connector"
   ]
  },
  {
   "cell_type": "markdown",
   "id": "84d10add-8602-40c9-abf7-078ad9fc0150",
   "metadata": {},
   "source": [
    "# Create Database"
   ]
  },
  {
   "cell_type": "markdown",
   "id": "00fe9f8c-cdb1-4e38-b668-75c46a1d9531",
   "metadata": {},
   "source": [
    "\n",
    "\n",
    "**connect**"
   ]
  },
  {
   "cell_type": "code",
   "execution_count": 7,
   "id": "fa07b4f1-3713-4331-be02-6eec1ec897d0",
   "metadata": {},
   "outputs": [],
   "source": [
    "mydb = mysql.connector.connect(\n",
    "    host=host,\n",
    "    user=user,\n",
    "    password=password,\n",
    "    auth_plugin='mysql_native_password',\n",
    ")\n",
    "\n",
    "mycursor = mydb.cursor()"
   ]
  },
  {
   "cell_type": "markdown",
   "id": "c19f563f-754d-4e7b-9ad8-8ade9dbb3c81",
   "metadata": {},
   "source": [
    "<br>\n",
    "\n",
    "**CREATE DATABASE IF NOT EXISTS**"
   ]
  },
  {
   "cell_type": "code",
   "execution_count": 8,
   "id": "203205cb-06a9-4215-b8ba-580c23d9becf",
   "metadata": {},
   "outputs": [],
   "source": [
    "mycursor.execute(\"CREATE DATABASE IF NOT EXISTS mydatabase\")"
   ]
  },
  {
   "cell_type": "markdown",
   "id": "27eea742-832b-451e-ae54-cc916c10a4ad",
   "metadata": {},
   "source": [
    "<br>\n",
    "\n",
    "**SHOW DATABASES**"
   ]
  },
  {
   "cell_type": "code",
   "execution_count": 9,
   "id": "b1d30367-9d65-4ae2-b3f3-c16bb6bdca19",
   "metadata": {},
   "outputs": [
    {
     "name": "stdout",
     "output_type": "stream",
     "text": [
      "('information_schema',)\n",
      "('mydatabase',)\n",
      "('mysql',)\n",
      "('performance_schema',)\n",
      "('sys',)\n"
     ]
    }
   ],
   "source": [
    "mycursor.execute(\"SHOW DATABASES\")\n",
    "\n",
    "for x in mycursor:\n",
    "  print(x)"
   ]
  },
  {
   "cell_type": "markdown",
   "id": "e8a7edea-4977-4a25-8b11-d3f1488557f6",
   "metadata": {},
   "source": [
    "# Connect to Database"
   ]
  },
  {
   "cell_type": "code",
   "execution_count": 10,
   "id": "1d2f1a1f-e316-4ff3-a7ce-de2e08182981",
   "metadata": {},
   "outputs": [],
   "source": [
    "mydb = mysql.connector.connect(\n",
    "  host=host,\n",
    "  user=\"root\",\n",
    "  password=password,\n",
    "  database=\"mydatabase\",\n",
    "    auth_plugin='mysql_native_password'\n",
    ")"
   ]
  },
  {
   "cell_type": "code",
   "execution_count": 11,
   "id": "86da98fd-a241-405a-b905-031bab1dafef",
   "metadata": {},
   "outputs": [],
   "source": [
    "mycursor = mydb.cursor()"
   ]
  },
  {
   "cell_type": "markdown",
   "id": "2374d6e1-0632-4582-a79f-bf4ef8fb2e74",
   "metadata": {},
   "source": [
    "<br>\n",
    "\n",
    "**SHOW TABLES**"
   ]
  },
  {
   "cell_type": "code",
   "execution_count": 12,
   "id": "65be8540-bdc6-402c-970d-9f7429f43078",
   "metadata": {},
   "outputs": [],
   "source": [
    "mycursor.execute(\"SHOW TABLES\")\n",
    "\n",
    "for x in mycursor:\n",
    "  print(x)"
   ]
  },
  {
   "cell_type": "markdown",
   "id": "d4bbb143-ee16-4240-aba4-9444eb6e1a43",
   "metadata": {},
   "source": [
    "# Create Table"
   ]
  },
  {
   "cell_type": "markdown",
   "id": "a0ca4afc-35ad-465c-ad3c-6bfc2e24d829",
   "metadata": {},
   "source": [
    "When creating a table, you should also create a column with a unique key for each record. i.e. **PRIMARY KEY**. \n"
   ]
  },
  {
   "cell_type": "code",
   "execution_count": 13,
   "id": "16a0dd27-7658-4299-acae-e90243cbd61a",
   "metadata": {},
   "outputs": [],
   "source": [
    "mycursor.execute(\"CREATE TABLE IF NOT EXISTS customers (id INT AUTO_INCREMENT PRIMARY KEY, name VARCHAR(255), address VARCHAR(255))\")"
   ]
  },
  {
   "cell_type": "code",
   "execution_count": 14,
   "id": "12e2d3c1-cd46-4044-b96c-a66a947f1ea7",
   "metadata": {},
   "outputs": [
    {
     "name": "stdout",
     "output_type": "stream",
     "text": [
      "('customers',)\n"
     ]
    }
   ],
   "source": [
    "mycursor.execute(\"SHOW TABLES\")\n",
    "for x in mycursor:\n",
    "  print(x)"
   ]
  },
  {
   "cell_type": "markdown",
   "id": "a6f95b0e-f012-4bbd-8fe3-a380e5932c69",
   "metadata": {},
   "source": [
    "# Insert into Table"
   ]
  },
  {
   "cell_type": "markdown",
   "id": "7ecb5c53-6ae4-490f-9b5d-d7a7612ce89b",
   "metadata": {},
   "source": [
    "\n",
    "\n",
    "``mycursor.execute(sql_cmd, val)``: Insert One Entry <br>\n",
    "``mydb.commit()``: It is required to make the changes, otherwise no changes are made to the table. <br>\n",
    "``mycursor.rowcount``: No. of rows "
   ]
  },
  {
   "cell_type": "code",
   "execution_count": 15,
   "id": "2bf0cb6f-d69b-4950-89ba-c2b255ae986d",
   "metadata": {},
   "outputs": [
    {
     "name": "stdout",
     "output_type": "stream",
     "text": [
      "1 record inserted.\n"
     ]
    }
   ],
   "source": [
    "sql = \"INSERT INTO customers (name, address) VALUES (%s, %s)\"\n",
    "val = (\"John\", \"Highway 21\")\n",
    "mycursor.execute(sql, val)\n",
    "\n",
    "mydb.commit()\n",
    "\n",
    "print(mycursor.rowcount, \"record inserted.\")"
   ]
  },
  {
   "cell_type": "markdown",
   "id": "6386da5c-756e-4c8d-bcf0-2d607856610a",
   "metadata": {},
   "source": [
    "<br>\n",
    "\n",
    "``mycursor.executemany(sql_cmd, val)``: Insert multiple entries"
   ]
  },
  {
   "cell_type": "code",
   "execution_count": 16,
   "id": "7ec247bd-7a87-4c01-8c57-b03ff8755f56",
   "metadata": {},
   "outputs": [
    {
     "name": "stdout",
     "output_type": "stream",
     "text": [
      "13 was inserted.\n"
     ]
    }
   ],
   "source": [
    "sql = \"INSERT INTO customers (name, address) VALUES (%s, %s)\"\n",
    "\n",
    "val = [\n",
    "  ('Peter', 'Lowstreet 4'),\n",
    "  ('Amy', 'Apple st 652'),\n",
    "  ('Hannah', 'Mountain 21'),\n",
    "  ('Michael', 'Valley 345'),\n",
    "  ('Sandy', 'Ocean blvd 2'),\n",
    "  ('Betty', 'Green Grass 1'),\n",
    "  ('Richard', 'Sky st 331'),\n",
    "  ('Susan', 'One way 98'),\n",
    "  ('Vicky', 'Yellow Garden 2'),\n",
    "  ('Ben', 'Park Lane 38'),\n",
    "  ('William', 'Central st 954'),\n",
    "  ('Chuck', 'Main Road 989'),\n",
    "  ('Viola', 'Sideway 1633')\n",
    "]\n",
    "\n",
    "mycursor.executemany(sql, val)\n",
    "\n",
    "mydb.commit()\n",
    "\n",
    "print(mycursor.rowcount, \"was inserted.\")"
   ]
  },
  {
   "cell_type": "markdown",
   "id": "601fcdce-b593-4a3f-bd6e-f664e45dfd65",
   "metadata": {},
   "source": [
    "# SELECT from Table\n",
    "\n",
    "``mycursor.fetchall()``: Fetch all results from the Table"
   ]
  },
  {
   "cell_type": "code",
   "execution_count": 17,
   "id": "01630cf1-bf5e-4dab-b48f-b2d968be6b02",
   "metadata": {},
   "outputs": [
    {
     "name": "stdout",
     "output_type": "stream",
     "text": [
      "(1, 'John', 'Highway 21')\n",
      "(2, 'Peter', 'Lowstreet 4')\n",
      "(3, 'Amy', 'Apple st 652')\n",
      "(4, 'Hannah', 'Mountain 21')\n",
      "(5, 'Michael', 'Valley 345')\n",
      "(6, 'Sandy', 'Ocean blvd 2')\n",
      "(7, 'Betty', 'Green Grass 1')\n",
      "(8, 'Richard', 'Sky st 331')\n",
      "(9, 'Susan', 'One way 98')\n",
      "(10, 'Vicky', 'Yellow Garden 2')\n",
      "(11, 'Ben', 'Park Lane 38')\n",
      "(12, 'William', 'Central st 954')\n",
      "(13, 'Chuck', 'Main Road 989')\n",
      "(14, 'Viola', 'Sideway 1633')\n"
     ]
    }
   ],
   "source": [
    "mycursor.execute(\"SELECT * FROM customers\")\n",
    "\n",
    "myresult = mycursor.fetchall()\n",
    "\n",
    "for x in myresult:\n",
    "  print(x)"
   ]
  },
  {
   "cell_type": "markdown",
   "id": "054fa690-da72-46b6-86c0-4fa42d02f05e",
   "metadata": {},
   "source": [
    "## SELECT with Filter: WHERE"
   ]
  },
  {
   "cell_type": "code",
   "execution_count": 18,
   "id": "95825e38-2ca1-4261-b753-6ac95c1b5e08",
   "metadata": {},
   "outputs": [
    {
     "name": "stdout",
     "output_type": "stream",
     "text": [
      "(11, 'Ben', 'Park Lane 38')\n"
     ]
    }
   ],
   "source": [
    "sql = \"SELECT * FROM customers WHERE address = 'Park Lane 38'\"\n",
    "\n",
    "mycursor.execute(sql)\n",
    "myresult = mycursor.fetchall()\n",
    "\n",
    "for x in myresult:\n",
    "    print(x)"
   ]
  },
  {
   "cell_type": "markdown",
   "id": "02f74336-6a60-4ada-a6e5-fdf973eb49e0",
   "metadata": {},
   "source": [
    "### Wildcard Characters: \"%\""
   ]
  },
  {
   "cell_type": "code",
   "execution_count": 19,
   "id": "74533865-c611-4d93-ba68-eae75b1d2f29",
   "metadata": {},
   "outputs": [
    {
     "name": "stdout",
     "output_type": "stream",
     "text": [
      "(1, 'John', 'Highway 21')\n",
      "(9, 'Susan', 'One way 98')\n",
      "(14, 'Viola', 'Sideway 1633')\n"
     ]
    }
   ],
   "source": [
    "sql = \"SELECT * FROM customers WHERE address LIKE '%way%'\"\n",
    "\n",
    "mycursor.execute(sql)\n",
    "myresult = mycursor.fetchall()\n",
    "\n",
    "for x in myresult:\n",
    "    print(x)"
   ]
  },
  {
   "cell_type": "markdown",
   "id": "3759f327-5a5a-40d7-aef0-c65618134fd8",
   "metadata": {},
   "source": [
    "# ORDER BY: Sort the Result \n",
    "\n",
    "``ORDER`` BY keyword sorts the result **ascending** by default."
   ]
  },
  {
   "cell_type": "code",
   "execution_count": 20,
   "id": "40339690-5f79-4f56-bd02-ca5ed79b69cd",
   "metadata": {},
   "outputs": [
    {
     "name": "stdout",
     "output_type": "stream",
     "text": [
      "(3, 'Amy', 'Apple st 652')\n",
      "(11, 'Ben', 'Park Lane 38')\n",
      "(7, 'Betty', 'Green Grass 1')\n",
      "(13, 'Chuck', 'Main Road 989')\n",
      "(4, 'Hannah', 'Mountain 21')\n",
      "(1, 'John', 'Highway 21')\n",
      "(5, 'Michael', 'Valley 345')\n",
      "(2, 'Peter', 'Lowstreet 4')\n",
      "(8, 'Richard', 'Sky st 331')\n",
      "(6, 'Sandy', 'Ocean blvd 2')\n",
      "(9, 'Susan', 'One way 98')\n",
      "(10, 'Vicky', 'Yellow Garden 2')\n",
      "(14, 'Viola', 'Sideway 1633')\n",
      "(12, 'William', 'Central st 954')\n"
     ]
    }
   ],
   "source": [
    "sql = \"SELECT * FROM customers ORDER BY name\"\n",
    "\n",
    "mycursor.execute(sql)\n",
    "myresult = mycursor.fetchall()\n",
    "\n",
    "for x in myresult:\n",
    "    print(x)"
   ]
  },
  {
   "cell_type": "markdown",
   "id": "93a2523e-1881-4698-bf0d-1e84ff516bb1",
   "metadata": {},
   "source": [
    "#### ORDER BY DESC"
   ]
  },
  {
   "cell_type": "code",
   "execution_count": 21,
   "id": "462f3d40-614b-4fa1-8af0-6283b64ba88d",
   "metadata": {},
   "outputs": [
    {
     "name": "stdout",
     "output_type": "stream",
     "text": [
      "(12, 'William', 'Central st 954')\n",
      "(14, 'Viola', 'Sideway 1633')\n",
      "(10, 'Vicky', 'Yellow Garden 2')\n",
      "(9, 'Susan', 'One way 98')\n",
      "(6, 'Sandy', 'Ocean blvd 2')\n",
      "(8, 'Richard', 'Sky st 331')\n",
      "(2, 'Peter', 'Lowstreet 4')\n",
      "(5, 'Michael', 'Valley 345')\n",
      "(1, 'John', 'Highway 21')\n",
      "(4, 'Hannah', 'Mountain 21')\n",
      "(13, 'Chuck', 'Main Road 989')\n",
      "(7, 'Betty', 'Green Grass 1')\n",
      "(11, 'Ben', 'Park Lane 38')\n",
      "(3, 'Amy', 'Apple st 652')\n"
     ]
    }
   ],
   "source": [
    "sql = \"SELECT * FROM customers ORDER BY name DESC\"\n",
    "\n",
    "mycursor.execute(sql)\n",
    "myresult = mycursor.fetchall()\n",
    "\n",
    "for x in myresult:\n",
    "    print(x)\n"
   ]
  },
  {
   "cell_type": "markdown",
   "id": "9cbf4c3f-ae0b-455c-966a-a96fa719f96f",
   "metadata": {},
   "source": [
    "# DELETE FROM"
   ]
  },
  {
   "cell_type": "code",
   "execution_count": 22,
   "id": "d4f0f31e-677c-4f79-9339-82a4d1aef2c6",
   "metadata": {},
   "outputs": [
    {
     "name": "stdout",
     "output_type": "stream",
     "text": [
      "1 record(s) deleted\n"
     ]
    }
   ],
   "source": [
    "sql = \"DELETE FROM customers WHERE address = 'Mountain 21'\"\n",
    "\n",
    "mycursor.execute(sql)\n",
    "mydb.commit()\n",
    "\n",
    "print(mycursor.rowcount, \"record(s) deleted\")"
   ]
  },
  {
   "cell_type": "markdown",
   "id": "448bfb25-1f3c-424e-a2dc-48a200ca19e7",
   "metadata": {},
   "source": [
    "# UPDATE"
   ]
  },
  {
   "cell_type": "code",
   "execution_count": 23,
   "id": "b394d7cc-3c80-4460-99f8-0382d28891b2",
   "metadata": {},
   "outputs": [
    {
     "name": "stdout",
     "output_type": "stream",
     "text": [
      "1 record(s) affected\n"
     ]
    }
   ],
   "source": [
    "sql = \"UPDATE customers SET address = 'Canyon 123' WHERE address = 'Valley 345'\"\n",
    "\n",
    "mycursor.execute(sql)\n",
    "mydb.commit()\n",
    "\n",
    "print(mycursor.rowcount, \"record(s) affected\")"
   ]
  },
  {
   "cell_type": "markdown",
   "id": "a8f30822-2f19-4597-b2d0-01387d3d01e8",
   "metadata": {},
   "source": [
    "# LIMIT"
   ]
  },
  {
   "cell_type": "code",
   "execution_count": 24,
   "id": "3481f5e3-66fe-4fc1-97ee-72eaeb3634a1",
   "metadata": {},
   "outputs": [
    {
     "name": "stdout",
     "output_type": "stream",
     "text": [
      "(1, 'John', 'Highway 21')\n",
      "(2, 'Peter', 'Lowstreet 4')\n",
      "(3, 'Amy', 'Apple st 652')\n",
      "(5, 'Michael', 'Canyon 123')\n",
      "(6, 'Sandy', 'Ocean blvd 2')\n"
     ]
    }
   ],
   "source": [
    "sql = \"SELECT * FROM customers LIMIT 5\"\n",
    "\n",
    "mycursor.execute(sql)\n",
    "myresult = mycursor.fetchall()\n",
    "\n",
    "for x in myresult:\n",
    "    print(x)"
   ]
  },
  {
   "cell_type": "markdown",
   "id": "f534cc80-5a43-4480-921f-d790a3783ab3",
   "metadata": {},
   "source": []
  },
  {
   "cell_type": "markdown",
   "id": "b2246ab7-16d8-478f-9c8d-7b1b96b86034",
   "metadata": {},
   "source": [
    "# JOIN"
   ]
  },
  {
   "cell_type": "code",
   "execution_count": 25,
   "id": "4cc1756e-7bb9-4dfd-b6e0-3c560f68cfb2",
   "metadata": {},
   "outputs": [
    {
     "name": "stdout",
     "output_type": "stream",
     "text": [
      "3 record(s) inserted.\n"
     ]
    }
   ],
   "source": [
    "#mycursor.execute(\"CREATE TABLE customers (id INT AUTO_INCREMENT PRIMARY KEY, name VARCHAR(255), address VARCHAR(255))\")\n",
    "sql = \"DROP TABLE IF EXISTS orders\"\n",
    "mycursor.execute(sql)\n",
    "\n",
    "sql = \"DROP TABLE IF EXISTS products\"\n",
    "mycursor.execute(sql)\n",
    "\n",
    "sql = \"CREATE TABLE products (id INT AUTO_INCREMENT PRIMARY KEY, name VARCHAR(255), price VARCHAR(255))\"\n",
    "mycursor.execute(sql)\n",
    "sql = \"INSERT INTO products (name, price) VALUES (%s, %s)\"\n",
    "val = [\n",
    "    (\"macbook\", \"2000\"),\n",
    "    (\"iphone\", \"1000\"),\n",
    "    (\"apple watch\", \"500\")\n",
    "]\n",
    "mycursor.executemany(sql, val)\n",
    "mydb.commit()\n",
    "print(mycursor.rowcount, \"record(s) inserted.\")"
   ]
  },
  {
   "cell_type": "code",
   "execution_count": 26,
   "id": "4dfaf9c9-6065-4f35-afd3-8b1698f1fd63",
   "metadata": {},
   "outputs": [
    {
     "name": "stdout",
     "output_type": "stream",
     "text": [
      "4 record(s) inserted.\n"
     ]
    }
   ],
   "source": [
    "sql = \"CREATE TABLE orders (id INT AUTO_INCREMENT PRIMARY KEY, customer_id INT, product_id INT)\"\n",
    "\n",
    "\n",
    "mycursor.execute(sql)\n",
    "sql = \"INSERT INTO orders (customer_id, product_id) VALUES (%s, %s)\"\n",
    "val = [\n",
    "    (\"1\", \"1\"),\n",
    "    (\"1\", \"2\"),\n",
    "    (\"2\", \"3\"),\n",
    "    (\"3\", \"3\")\n",
    "]\n",
    "mycursor.executemany(sql, val)\n",
    "mydb.commit()\n",
    "print(mycursor.rowcount, \"record(s) inserted.\")"
   ]
  },
  {
   "cell_type": "code",
   "execution_count": 27,
   "id": "d47dc708-07ee-4a91-8617-15badbcee45a",
   "metadata": {},
   "outputs": [
    {
     "name": "stdout",
     "output_type": "stream",
     "text": [
      "('customers',)\n",
      "('orders',)\n",
      "('products',)\n"
     ]
    }
   ],
   "source": [
    "\n",
    "mycursor.execute(\"SHOW TABLES\")\n",
    "\n",
    "for x in mycursor:\n",
    "  print(x)"
   ]
  },
  {
   "cell_type": "markdown",
   "id": "168ea727-5d0e-4eec-9e47-f5875f2cb99a",
   "metadata": {},
   "source": [
    "## JOIN or INNER JOIN\n",
    "By Default JOIN means the INNER JOIN:  Returns records that have matching values in both tables"
   ]
  },
  {
   "cell_type": "code",
   "execution_count": 28,
   "id": "eeacb5e5-af60-4e0c-8e7e-e0ad0c1cb458",
   "metadata": {},
   "outputs": [
    {
     "name": "stdout",
     "output_type": "stream",
     "text": [
      "('John', 1)\n",
      "('John', 2)\n",
      "('Peter', 3)\n",
      "('Amy', 4)\n"
     ]
    }
   ],
   "source": [
    "\n",
    "sql = \"SELECT \\\n",
    "    c.name, o.id\\\n",
    "    FROM customers c\\\n",
    "    JOIN orders o ON c.id = o.customer_id\\\n",
    "    \"\n",
    "mycursor.execute(sql)\n",
    "myresult = mycursor.fetchall()\n",
    "\n",
    "for x in myresult:\n",
    "    print(x)"
   ]
  },
  {
   "cell_type": "markdown",
   "id": "65f729f1-c527-4ead-8dd7-77bd89d62d8e",
   "metadata": {},
   "source": [
    "# OUTER JOIN: LEFT JOIN\n",
    "Returns all records from the left table, and the matched records from the right table"
   ]
  },
  {
   "cell_type": "code",
   "execution_count": 29,
   "id": "44e76e78-b3be-4734-b9f8-cc3deab4848b",
   "metadata": {},
   "outputs": [
    {
     "name": "stdout",
     "output_type": "stream",
     "text": [
      "('John', 2)\n",
      "('John', 1)\n",
      "('Peter', 3)\n",
      "('Amy', 4)\n",
      "('Michael', None)\n",
      "('Sandy', None)\n",
      "('Betty', None)\n",
      "('Richard', None)\n",
      "('Susan', None)\n",
      "('Vicky', None)\n",
      "('Ben', None)\n",
      "('William', None)\n",
      "('Chuck', None)\n",
      "('Viola', None)\n"
     ]
    }
   ],
   "source": [
    "sql = \"SELECT \\\n",
    "    c.name, o.id\\\n",
    "    FROM customers c\\\n",
    "    LEFT JOIN orders o ON c.id = o.customer_id\\\n",
    "    \"\n",
    "mycursor.execute(sql)\n",
    "myresult = mycursor.fetchall()\n",
    "\n",
    "for x in myresult:\n",
    "    print(x)"
   ]
  },
  {
   "cell_type": "markdown",
   "id": "40166071-a6ce-4cd2-aefd-2e62f03b8507",
   "metadata": {},
   "source": [
    "# OUTER JOIN: RIGHT JOIN\n",
    "Returns all records from the right table, and the matched records from the left table"
   ]
  },
  {
   "cell_type": "code",
   "execution_count": 30,
   "id": "87637886-e525-42b0-8982-3536d0ed81fe",
   "metadata": {},
   "outputs": [
    {
     "name": "stdout",
     "output_type": "stream",
     "text": [
      "('John', 1)\n",
      "('John', 2)\n",
      "('Peter', 3)\n",
      "('Amy', 4)\n"
     ]
    }
   ],
   "source": [
    "sql = \"SELECT \\\n",
    "    c.name, o.id\\\n",
    "    FROM customers c\\\n",
    "    RIGHT JOIN orders o ON c.id = o.customer_id\\\n",
    "    \"\n",
    "mycursor.execute(sql)\n",
    "myresult = mycursor.fetchall()\n",
    "\n",
    "for x in myresult:\n",
    "    print(x)"
   ]
  },
  {
   "cell_type": "markdown",
   "id": "7f105dc7-2ff5-482f-8094-95c6a702bb0f",
   "metadata": {},
   "source": [
    "# OUTER JOIN: FULL JOIN\n",
    "Returns all records when there is a match in either left or right table.\n",
    "MYSQL Doesn't support FULL JOIN, so need to do work around."
   ]
  },
  {
   "cell_type": "code",
   "execution_count": 31,
   "id": "f626213c-359a-499c-9f5a-121f9cba6cae",
   "metadata": {},
   "outputs": [
    {
     "name": "stdout",
     "output_type": "stream",
     "text": [
      "('John', 2)\n",
      "('John', 1)\n",
      "('Peter', 3)\n",
      "('Amy', 4)\n",
      "('Michael', None)\n",
      "('Sandy', None)\n",
      "('Betty', None)\n",
      "('Richard', None)\n",
      "('Susan', None)\n",
      "('Vicky', None)\n",
      "('Ben', None)\n",
      "('William', None)\n",
      "('Chuck', None)\n",
      "('Viola', None)\n"
     ]
    }
   ],
   "source": [
    "sql = \"SELECT\\\n",
    "    c.name, o.id\\\n",
    "    FROM customers c\\\n",
    "    LEFT JOIN orders o ON c.id = o.customer_id\\\n",
    "    UNION\\\n",
    "    SELECT\\\n",
    "    c.name, o.id\\\n",
    "    FROM customers c\\\n",
    "    RIGHT JOIN orders o ON c.id = o.customer_id\\\n",
    "    \"\n",
    "mycursor.execute(sql)\n",
    "myresult = mycursor.fetchall()\n",
    "\n",
    "for x in myresult:\n",
    "    print(x)"
   ]
  },
  {
   "cell_type": "markdown",
   "id": "47696790-583a-4359-8090-96cb3c3b8ba8",
   "metadata": {},
   "source": [
    "# DROP TABLE"
   ]
  },
  {
   "cell_type": "code",
   "execution_count": 32,
   "id": "ab8f33b5-adf9-45fc-96e0-0313dad13f0d",
   "metadata": {},
   "outputs": [],
   "source": [
    "sql = \"DROP TABLE customers\"\n",
    "\n",
    "mycursor.execute(sql)"
   ]
  },
  {
   "cell_type": "markdown",
   "id": "673207e5-fa27-4a87-8489-bcba3e8486fa",
   "metadata": {},
   "source": [
    "#### DROP TABLE IF EXISTS"
   ]
  },
  {
   "cell_type": "code",
   "execution_count": 33,
   "id": "a0cc69f0-2c4a-4a02-9a30-2d15bf52e8c4",
   "metadata": {},
   "outputs": [],
   "source": [
    "sql = \"DROP TABLE IF EXISTS customers\"\n",
    "mycursor.execute(sql)\n",
    "sql = \"DROP TABLE IF EXISTS orders\"\n",
    "mycursor.execute(sql)\n",
    "sql = \"DROP TABLE IF EXISTS products\"\n",
    "mycursor.execute(sql)"
   ]
  }
 ],
 "metadata": {
  "kernelspec": {
   "display_name": "aisquad-env",
   "language": "python",
   "name": "aisquad-env"
  },
  "language_info": {
   "codemirror_mode": {
    "name": "ipython",
    "version": 3
   },
   "file_extension": ".py",
   "mimetype": "text/x-python",
   "name": "python",
   "nbconvert_exporter": "python",
   "pygments_lexer": "ipython3",
   "version": "3.10.9"
  }
 },
 "nbformat": 4,
 "nbformat_minor": 5
}
