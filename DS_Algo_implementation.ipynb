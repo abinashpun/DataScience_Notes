{
 "cells": [
  {
   "cell_type": "markdown",
   "id": "facf4205-5497-428b-a352-ad699694ccef",
   "metadata": {},
   "source": [
    "# Linked List"
   ]
  },
  {
   "cell_type": "code",
   "execution_count": 1,
   "id": "0b70d1bd-5db8-4d54-aa2b-f00be076c0ff",
   "metadata": {},
   "outputs": [],
   "source": [
    "class Node:\n",
    "    def __init__(self,data):\n",
    "        self.data=data\n",
    "        self.next=None #next = used to store link or pointer for next Node\n",
    "        #None: Null pointer equivalent of c++\n",
    "\n",
    "class linkedList:\n",
    "    def __init__(self):\n",
    "        self.head=None #head pointer in the linked list which points to the first node in the linked list\n",
    "\n",
    "# first create a node and with the given data and assign its next reference to the first node i.e \n",
    "# where the head is pointing. Then we point the head reference to the new node.\n",
    "    def insertAtBeginning(self,data):\n",
    "        temp_node=Node(data)\n",
    "        if self.head==None:\n",
    "            self.head=temp_node\n",
    "           \n",
    "        else:\n",
    "            temp_node.next=self.head #assign temp_node's next reference to the first node\n",
    "            self.head=temp_node # point the head reference to the new node i.e. to temp_node. \n",
    "            \n",
    "\n",
    "# start from the head, print the data and move to the next node until we reach None i.e. end of the linked list\n",
    "    def traverse(self):\n",
    "        curr_node=self.head\n",
    "        while curr_node!=None:\n",
    "            print(curr_node.data)\n",
    "            curr_node=curr_node.next\n",
    "            \n",
    "\n",
    "# find the node where the next element refers to None i.e. the last node. \n",
    "# Then we create a new node with the given data and point the next element of the last node to the newly created node.\n",
    "    def insertAtEnd(self,data):        \n",
    "        temp_node=Node(data)\n",
    "        if self.head==None:\n",
    "            self.head=temp_node\n",
    "        else:\n",
    "            curr_node=self.head\n",
    "            while curr_node.next!=None: #loop until end\n",
    "                curr_node=curr_node.next\n",
    "            curr_node.next=temp_node\n",
    "            \n",
    "            \n",
    "# count the nodes till we reach that position and then we point the next element \n",
    "# of the new node to the next node of the current node and the next reference of the current node to the new node.    \n",
    "    def insertAtGivenPosition(self,data,position):\n",
    "        count=1\n",
    "        curr_node=self.head\n",
    "        while count<position-1 and curr_node!=None:# Go until position-1 node\n",
    "            curr_node=curr_node.next\n",
    "            count+=1\n",
    "        temp_node=Node(data)\n",
    "        temp_node.next=curr_node.next #change the link of the of temp node as next of current node\n",
    "        curr_node.next=temp_node #change the link of current node as temp_node\n",
    "        \n",
    "# first check if the head of the linked list is pointing to None, if yes then we will raise an exception using python try except \n",
    "# with a message that the linked list is empty. Otherwise, we will delete the current node referred by head and move the head pointer to the next node\n",
    "    def delFromBegining(self):\n",
    "        try:\n",
    "            if self.head==None:\n",
    "                raise Execption(\"Empty Linked List\")\n",
    "            else:\n",
    "                temp_node=self.head #get and store head node\n",
    "                self.head=self.head.next #assign the 2nd node (i.e. next of head) as head node\n",
    "                del temp_node #delete the stored original head node\n",
    "        except Execption as e:\n",
    "            print (str(e))\n",
    "\n",
    "\n",
    "# traverse each node in the linked list and check if the next pointer of the next node of current node points to None,\n",
    "# if yes then the next node of current node is the last node and it will get deleted.\n",
    "    def delFromEnd(self):\n",
    "        try:\n",
    "            if self.head==None:\n",
    "                raise Execption(\"Empty Linked List\")\n",
    "            else:\n",
    "                curr_node=self.head\n",
    "                prev_node=None\n",
    "                while curr_node.next!=None: #traverse each node in the linked list\n",
    "                    prev_node=curr_node\n",
    "                    curr_node=curr_node.next                   \n",
    "                prev_node.next=curr_node.next #The link for the prev_node should be empty before we delete the last node\n",
    "                #prev_node.next=None #Can use this line instead of above line               \n",
    "      \n",
    "                del curr_node #commenting out this line doesn't change the result\n",
    "                \n",
    "        except Exception as e:\n",
    "            print(str(e))\n",
    "            \n",
    "# To delete a node in between the linked list, at every node we will check if the position of next node is the node to be deleted,\n",
    "# if yes, we will delete the next node and assign the next reference to the next node of the node being deleted\n",
    "\n",
    "    def delAtPos(self, position):\n",
    "        try:\n",
    "            if self.head==None:\n",
    "                raise Execption(\"Empty Linked List\")\n",
    "            else:\n",
    "                curr_node = self.head\n",
    "                prev_node = None\n",
    "                count = 1\n",
    "                while curr_node!=None and count<position:\n",
    "                    prev_node=curr_node\n",
    "                    curr_node=curr_node.next\n",
    "                    count+=1\n",
    "                    \n",
    "                prev_node.next=curr_node.next\n",
    "                del curr_node\n",
    "                \n",
    "        except Exception as e:\n",
    "            print(str(e))\n",
    "            "
   ]
  },
  {
   "cell_type": "code",
   "execution_count": 2,
   "id": "d629f2dc-be76-4a75-ac49-f150ce3d81df",
   "metadata": {},
   "outputs": [],
   "source": [
    "ll = linkedList()"
   ]
  },
  {
   "cell_type": "code",
   "execution_count": 3,
   "id": "f5f3ac8a-7736-4b50-a804-150fe743dbff",
   "metadata": {},
   "outputs": [
    {
     "name": "stdout",
     "output_type": "stream",
     "text": [
      "8\n",
      "9\n",
      "10\n"
     ]
    }
   ],
   "source": [
    "ll.insertAtBeginning(10)\n",
    "ll.insertAtBeginning(9)\n",
    "ll.insertAtBeginning(8)\n",
    "ll.traverse()"
   ]
  },
  {
   "cell_type": "code",
   "execution_count": 4,
   "id": "323d56f3-43df-4dd4-a213-0d7edc4e9c9f",
   "metadata": {},
   "outputs": [
    {
     "name": "stdout",
     "output_type": "stream",
     "text": [
      "8\n",
      "9\n",
      "10\n",
      "12\n"
     ]
    }
   ],
   "source": [
    "ll.insertAtEnd(12)\n",
    "ll.traverse()"
   ]
  },
  {
   "cell_type": "code",
   "execution_count": 5,
   "id": "85fabf56-af61-4ae1-9566-9d74d7da40b0",
   "metadata": {},
   "outputs": [
    {
     "name": "stdout",
     "output_type": "stream",
     "text": [
      "8\n",
      "9\n",
      "10\n",
      "11\n",
      "12\n"
     ]
    }
   ],
   "source": [
    "ll.insertAtGivenPosition(11,4)\n",
    "ll.traverse()"
   ]
  },
  {
   "cell_type": "code",
   "execution_count": 6,
   "id": "1f21439d-782a-4de2-9448-274eae46c438",
   "metadata": {},
   "outputs": [
    {
     "name": "stdout",
     "output_type": "stream",
     "text": [
      "8\n",
      "9\n",
      "10\n",
      "11\n"
     ]
    }
   ],
   "source": [
    "ll.delFromEnd()\n",
    "ll.traverse()"
   ]
  },
  {
   "cell_type": "code",
   "execution_count": 7,
   "id": "5d35d052-db9f-43e9-9bce-de9608b8275d",
   "metadata": {},
   "outputs": [
    {
     "name": "stdout",
     "output_type": "stream",
     "text": [
      "8\n",
      "10\n",
      "11\n"
     ]
    }
   ],
   "source": [
    "ll.delAtPos(2)\n",
    "ll.traverse()"
   ]
  },
  {
   "cell_type": "markdown",
   "id": "cd40f568-f6b9-4798-8089-b51d51a1c37a",
   "metadata": {},
   "source": [
    "<hr>"
   ]
  },
  {
   "cell_type": "markdown",
   "id": "2da91fb4-b7a7-4e90-afc9-c58cbb9dbf33",
   "metadata": {},
   "source": [
    "# Stack"
   ]
  },
  {
   "cell_type": "code",
   "execution_count": 8,
   "id": "003d97b2-4653-420c-acf5-5a2882fbe054",
   "metadata": {},
   "outputs": [],
   "source": [
    "class Node:\n",
    "    def __init__(self,data):\n",
    "        self.data=data\n",
    "        self.next=None\n",
    "\n",
    "class Stack:\n",
    "    def __init__(self):\n",
    "        self.top=None\n",
    "        self.stacksize=0\n",
    "        \n",
    "    def size(self):\n",
    "        return self.stacksize\n",
    "    \n",
    "    def __str__(self):\n",
    "        if self.top is None:\n",
    "            print(\"The Stack is empty\")\n",
    "        else:\n",
    "            cur = self.top\n",
    "            out = \"\"\n",
    "            while cur:\n",
    "                out += str(cur.data) + \"->\"\n",
    "                cur = cur.next\n",
    "            return out[:-2]  \n",
    "\n",
    "    # every insertion we will add the element to be inserted at the start of the linked list \n",
    "    def push(self, data):\n",
    "        temp_node=Node(data)\n",
    "        if self.top is None:\n",
    "            self.top = temp_node\n",
    "            self.stacksize += 1\n",
    "        else:\n",
    "            temp_node.next=self.top\n",
    "            self.top=temp_node\n",
    "            self.stacksize += 1\n",
    "            \n",
    "    #The element to be taken out from stack is the most recently added element to the stack.  \n",
    "    # we will remove the element pointed by top and will point top to the next recent element       \n",
    "    def pop(self):\n",
    "        if self.top ==  None:\n",
    "            raise Exception(\"The Stack is empty\")\n",
    "        \n",
    "        temp_node = self.top\n",
    "        self.top = self.top.next  \n",
    "        self.stacksize -= 1\n",
    "        \n",
    "        del temp_node\n",
    " \n",
    "        \n",
    "    def top_element(self):\n",
    "        try:\n",
    "            if self.top == None:\n",
    "                raise Exception(\"Stack is Empty\")\n",
    "            else:\n",
    "                return self.top.data\n",
    "        except Exception as e:\n",
    "            print(str(e))\n",
    "            \n",
    "    def isEmpty(self):\n",
    "        return self.size==0"
   ]
  },
  {
   "cell_type": "code",
   "execution_count": 9,
   "id": "dcf64793-db98-4d8b-85a9-45cef1d08dc4",
   "metadata": {},
   "outputs": [
    {
     "name": "stdout",
     "output_type": "stream",
     "text": [
      "Stach: 15->14->13->12->11->10->9->8->7->6->5->4->3->2->1\n"
     ]
    }
   ],
   "source": [
    "s=Stack()\n",
    "\n",
    "for i in range(1, 16):\n",
    "    s.push(i)\n",
    "\n",
    "print(f\"Stach: {s}\")"
   ]
  },
  {
   "cell_type": "code",
   "execution_count": 10,
   "id": "d083ca78-91e7-469e-9be9-3f68f450c324",
   "metadata": {},
   "outputs": [
    {
     "name": "stdout",
     "output_type": "stream",
     "text": [
      "15\n"
     ]
    }
   ],
   "source": [
    "print(s.top_element())"
   ]
  },
  {
   "cell_type": "code",
   "execution_count": 11,
   "id": "bdd2ec05-89f5-4000-90d3-b2494b17e4ad",
   "metadata": {},
   "outputs": [],
   "source": [
    "(s.pop())"
   ]
  },
  {
   "cell_type": "code",
   "execution_count": 12,
   "id": "8f89297c-75ff-4a74-9f06-ccc45b637459",
   "metadata": {},
   "outputs": [
    {
     "name": "stdout",
     "output_type": "stream",
     "text": [
      "Stack: 14->13->12->11->10->9->8->7->6->5->4->3->2->1\n"
     ]
    }
   ],
   "source": [
    "print(f\"Stack: {s}\")"
   ]
  },
  {
   "cell_type": "code",
   "execution_count": 13,
   "id": "a3f69fbf-2549-4761-8668-076aabb88ad1",
   "metadata": {},
   "outputs": [
    {
     "name": "stdout",
     "output_type": "stream",
     "text": [
      "14\n"
     ]
    }
   ],
   "source": [
    "print(s.top_element())"
   ]
  },
  {
   "cell_type": "code",
   "execution_count": 14,
   "id": "a7dd50e1-17be-41d9-bf0f-f48d2e702c4f",
   "metadata": {},
   "outputs": [
    {
     "data": {
      "text/plain": [
       "False"
      ]
     },
     "execution_count": 14,
     "metadata": {},
     "output_type": "execute_result"
    }
   ],
   "source": [
    "s.isEmpty()"
   ]
  },
  {
   "cell_type": "markdown",
   "id": "56b7e6f5-8ac2-41ac-93f4-bba392d295a5",
   "metadata": {},
   "source": [
    "<hr>"
   ]
  },
  {
   "cell_type": "markdown",
   "id": "2a88f31e-518a-414c-9911-dbd821ffe345",
   "metadata": {},
   "source": [
    "# Queue"
   ]
  },
  {
   "cell_type": "code",
   "execution_count": 15,
   "id": "5f0b7014-124a-49f4-bfa7-663b07f0dd31",
   "metadata": {},
   "outputs": [],
   "source": [
    "class QueueNode:\n",
    "    def __init__(self,data):\n",
    "        self.data=data\n",
    "        self.next = None\n",
    "\n",
    "        \n",
    "class Queue:\n",
    "    def __init__(self):\n",
    "        self.front=None\n",
    "        self.rear=None\n",
    "        \n",
    "    #method to check if the queue is empty\n",
    "    def empty(self):\n",
    "        return self.front is None\n",
    "    \n",
    "    # method to add an element to queue\n",
    "    def enqueue(self, data):\n",
    "        temp_node = QueueNode(data)\n",
    "        \n",
    "        #check if there is any element present or not\n",
    "        if self.rear == None:\n",
    "            self.front=temp_node\n",
    "            self.rear = temp_node\n",
    "            return\n",
    "        \n",
    "        self.rear.next = temp_node\n",
    "        self.rear = temp_node\n",
    "        \n",
    "    \n",
    "    # method to remove an element from the queue\n",
    "    def dequeue(self):\n",
    "        \n",
    "        #checking if there is any element present\n",
    "        if self.front==None:\n",
    "            return\n",
    "        \n",
    "        temp_node = self.front\n",
    "        self.front = temp_node.next\n",
    "        \n",
    "        if(self.front==None):\n",
    "            self.rear=None\n",
    "            \n",
    "    \n",
    "    "
   ]
  },
  {
   "cell_type": "code",
   "execution_count": 16,
   "id": "4b8e5b35-f2be-4d83-8afb-4aca688e3dc7",
   "metadata": {},
   "outputs": [],
   "source": [
    "queue = Queue()\n",
    "queue.enqueue(1)\n",
    "queue.enqueue(2)\n",
    "queue.enqueue(3)\n",
    "queue.enqueue(4)"
   ]
  },
  {
   "cell_type": "code",
   "execution_count": 17,
   "id": "e9c04ee5-3a83-428d-87c4-b98ea60f1921",
   "metadata": {},
   "outputs": [
    {
     "name": "stdout",
     "output_type": "stream",
     "text": [
      "Queue's current front 1\n",
      "Queue's current rear 4\n"
     ]
    }
   ],
   "source": [
    "print(\"Queue's current front \" + str(queue.front.data))\n",
    "print(\"Queue's current rear \" + str(queue.rear.data))\n"
   ]
  },
  {
   "cell_type": "code",
   "execution_count": 18,
   "id": "ce99de18-819e-4adf-a14b-3ad54303da84",
   "metadata": {},
   "outputs": [],
   "source": [
    "queue.dequeue()\n",
    "queue.dequeue()"
   ]
  },
  {
   "cell_type": "code",
   "execution_count": 19,
   "id": "2e46d5e7-fe47-4c5d-bc2e-5be111ff306f",
   "metadata": {},
   "outputs": [
    {
     "name": "stdout",
     "output_type": "stream",
     "text": [
      "Queue's current front 3\n",
      "Queue's current rear 4\n"
     ]
    }
   ],
   "source": [
    "print(\"Queue's current front \" + str(queue.front.data))\n",
    "print(\"Queue's current rear \" + str(queue.rear.data))"
   ]
  },
  {
   "cell_type": "markdown",
   "id": "7b306db5-5417-4403-8e63-3d02406e2eba",
   "metadata": {},
   "source": [
    "<hr>"
   ]
  },
  {
   "cell_type": "markdown",
   "id": "2d854d06-e4e5-4344-867b-631966a7fbfe",
   "metadata": {},
   "source": [
    "# Tree"
   ]
  },
  {
   "cell_type": "code",
   "execution_count": 20,
   "id": "62699e9a-8f39-446f-9822-943604120945",
   "metadata": {},
   "outputs": [],
   "source": [
    "from collections import deque \n",
    "# can be used as a queue or stack\n",
    "\n",
    "class Tree:\n",
    "    class Node:\n",
    "        def __init__(self, data, left=None, right=None):\n",
    "            self.data = data \n",
    "            self.left = left\n",
    "            self.right = right\n",
    "            \n",
    "    def traverse_level(self,root_node):\n",
    "        \n",
    "        if root_node==None:\n",
    "            return\n",
    "        \n",
    "        q = deque()\n",
    "\n",
    "        # first, add root\n",
    "        q.append(root_node)\n",
    "        \n",
    "        while q:\n",
    "            \n",
    "            current_node = q.pop()\n",
    "            \n",
    "            print('Level order - node:',current_node.data)\n",
    "            if current_node.left != None:\n",
    "                q.appendleft(current_node.left)\n",
    "            if current_node.right != None:\n",
    "                q.appendleft(current_node.right)\n",
    "                \n",
    "    def traverse_pre(self,root_node):\n",
    "\n",
    "        if root_node:\n",
    "            print('Preorder - node:',root_node.data)\n",
    "            self.traverse_pre(root_node.left)\n",
    "            self.traverse_pre(root_node.right)\n",
    "        else:\n",
    "            return\n",
    "        \n",
    "    def traverse_in(self,root_node):\n",
    "\n",
    "        if root_node:\n",
    "            self.traverse_in(root_node.left)\n",
    "            print('Inorder - node:',root_node.data)\n",
    "            self.traverse_in(root_node.right)\n",
    "        else:\n",
    "            return\n",
    "            \n",
    "\n",
    "    def traverse_post(self,root_node):\n",
    "\n",
    "        if root_node:\n",
    "            self.traverse_post(root_node.left)\n",
    "            self.traverse_post(root_node.right)\n",
    "            print('Postorder - node:',root_node.data)\n",
    "        else:\n",
    "            return\n",
    "        \n",
    "\n",
    "\n"
   ]
  },
  {
   "cell_type": "code",
   "execution_count": 21,
   "id": "a54a1ef9-e106-45c7-82a8-da9d180b5b70",
   "metadata": {},
   "outputs": [
    {
     "name": "stdout",
     "output_type": "stream",
     "text": [
      "Level order - node: Root\n",
      "Level order - node: A\n",
      "Level order - node: B\n",
      "Level order - node: C\n",
      "Level order - node: D\n",
      "Level order - node: E\n",
      "Level order - node: F\n",
      "Level order - node: G\n",
      "Level order - node: H\n",
      "Preorder - node: Root\n",
      "Preorder - node: A\n",
      "Preorder - node: C\n",
      "Preorder - node: F\n",
      "Preorder - node: G\n",
      "Preorder - node: D\n",
      "Preorder - node: H\n",
      "Preorder - node: B\n",
      "Preorder - node: E\n",
      "Inorder - node: F\n",
      "Inorder - node: C\n",
      "Inorder - node: G\n",
      "Inorder - node: A\n",
      "Inorder - node: H\n",
      "Inorder - node: D\n",
      "Inorder - node: Root\n",
      "Inorder - node: E\n",
      "Inorder - node: B\n",
      "Postorder - node: F\n",
      "Postorder - node: G\n",
      "Postorder - node: C\n",
      "Postorder - node: H\n",
      "Postorder - node: D\n",
      "Postorder - node: A\n",
      "Postorder - node: E\n",
      "Postorder - node: B\n",
      "Postorder - node: Root\n"
     ]
    }
   ],
   "source": [
    "tt = Tree()\n",
    "\n",
    "node = tt.Node('Root')\n",
    "node.left = tt.Node('A')\n",
    "node.right = tt.Node('B')\n",
    "node.left.left = tt.Node('C')\n",
    "node.left.right = tt.Node('D')\n",
    "node.right.left = tt.Node('E')\n",
    "node.left.left.left = tt.Node('F')\n",
    "node.left.left.right = tt.Node('G')\n",
    "node.left.right.left = tt.Node('H')\n",
    "\n",
    "tt.traverse_level(node)\n",
    "tt.traverse_pre(node)\n",
    "tt.traverse_in(node)\n",
    "tt.traverse_post(node)"
   ]
  },
  {
   "cell_type": "markdown",
   "id": "11be58d3-6e46-4e5a-b436-12bed9b84ac0",
   "metadata": {},
   "source": [
    "<hr>"
   ]
  },
  {
   "cell_type": "markdown",
   "id": "be14d6fa-ede4-4cc2-a18b-23f147e0b742",
   "metadata": {},
   "source": [
    "# Heap"
   ]
  },
  {
   "cell_type": "code",
   "execution_count": 22,
   "id": "2a8087ff-6f93-4b59-82cb-2d1cc170f7d6",
   "metadata": {},
   "outputs": [],
   "source": [
    "class Heap:\n",
    "    '''\n",
    "    Max Heap\n",
    "    '''\n",
    "    def __init__(self):\n",
    "        self.list = [None] # to make root index 1\n",
    "\n",
    "    def show(self):\n",
    "        \n",
    "        if len(self.list)==1:\n",
    "            print('Empty heap')\n",
    "        else:\n",
    "            print('List:',self.list)\n",
    "            h=int(np.log2(len(self.list)-1))+1\n",
    "            for i in range(h):\n",
    "                min_idx=2**i\n",
    "                max_idx=min(len(self.list),2**(i+1))\n",
    "                print('lvl {0}:'.format(i+1),self.list[min_idx:max_idx])\n",
    "        \n",
    "\n",
    "  # END OF HEAP HELPER METHODS\n",
    "  \n",
    "    def add(self, element):\n",
    "        # Add\n",
    "        self.list.append(element)\n",
    "        \n",
    "        # Upheap\n",
    "        idx = len(self.list)-1\n",
    "        while idx//2 > 0:\n",
    "            child = self.list[idx]\n",
    "            parent = self.list[idx//2]\n",
    "            if parent < child:\n",
    "                self.list[idx] = parent\n",
    "                self.list[idx//2] = child\n",
    "            idx = idx//2\n",
    "            \n",
    "    def delete(self):\n",
    "        if len(self.list)<2:\n",
    "            print('Empty heap')\n",
    "        else:\n",
    "            # Delete and Downheap\n",
    "            max_element=self.list[1]\n",
    "            #print(\"Remove: {0} from {1}\".format(max_element, self.list))\n",
    "            self.list[1] = self.list[-1]\n",
    "            self.list.pop()\n",
    "            \n",
    "            #print(self.list)\n",
    "            \n",
    "            idx=1\n",
    "            # loop as long as left child exists\n",
    "            while idx*2<len(self.list):\n",
    "                \n",
    "                larger_child_idx = None\n",
    "                # Get larger child index\n",
    "                if (idx*2+1)>=len(self.list):\n",
    "                    # Only left child\n",
    "                    larger_child_idx = idx*2\n",
    "                else:\n",
    "                    left_child = self.list[idx*2]\n",
    "                    right_child = self.list[idx*2+1]\n",
    "                    if left_child>right_child:\n",
    "                        larger_child_idx=idx*2\n",
    "                    else:\n",
    "                        larger_child_idx=idx*2+1\n",
    "                \n",
    "                child = self.list[larger_child_idx]\n",
    "                parent = self.list[idx]\n",
    "                #print('hi',child,parent,self.list)\n",
    "                if parent<child:\n",
    "                    self.list[idx]=child\n",
    "                    self.list[larger_child_idx]=parent\n",
    "                #else:\n",
    "                    #break\n",
    "                idx = larger_child_idx\n",
    "                #print(idx,len(self.list))\n",
    "                \n",
    "            return max_element\n",
    "        \n",
    "\n"
   ]
  },
  {
   "cell_type": "code",
   "execution_count": 23,
   "id": "bc135e89-b514-4f2a-bf4e-0db378d19a48",
   "metadata": {},
   "outputs": [
    {
     "name": "stdout",
     "output_type": "stream",
     "text": [
      "List: [None, 11, 10, 9, 4, 8, 5, 6, 2, 1, 3, 7]\n",
      "lvl 1: [11]\n",
      "lvl 2: [10, 9]\n",
      "lvl 3: [4, 8, 5, 6]\n",
      "lvl 4: [2, 1, 3, 7]\n",
      "Sorted: [1, 2, 3, 4, 5, 6, 7, 8, 9, 10, 11]\n",
      "List: [None, 10, 9, 8, 7, 6, 5, 4, 3, 2, 1]\n",
      "lvl 1: [10]\n",
      "lvl 2: [9, 8]\n",
      "lvl 3: [7, 6, 5, 4]\n",
      "lvl 4: [3, 2, 1]\n",
      "Sorted: [1, 2, 3, 4, 5, 6, 7, 8, 9, 10]\n",
      "List: [None, 8, 7, 6, 4, 3, 2, 5, 1]\n",
      "lvl 1: [8]\n",
      "lvl 2: [7, 6]\n",
      "lvl 3: [4, 3, 2, 5]\n",
      "lvl 4: [1]\n",
      "Sorted: [1, 2, 3, 4, 5, 6, 7, 8]\n"
     ]
    }
   ],
   "source": [
    "import numpy as np\n",
    "def heap_sort(arr):\n",
    "\n",
    "    arr_sorted=[]\n",
    "    heap = Heap()\n",
    "\n",
    "    for i in arr:\n",
    "        heap.add(i)\n",
    "\n",
    "    heap.show()\n",
    "    while len(heap.list)>1:\n",
    "        max_element = heap.delete()\n",
    "        arr_sorted.insert(0, max_element)\n",
    "\n",
    "    return arr_sorted\n",
    "\n",
    "        \n",
    "print('Sorted:',heap_sort([2,5,8,3,10,6,9,4,1,7,11]))\n",
    "print('Sorted:',heap_sort([10,9,8,7,6,5,4,3,2,1]))\n",
    "print('Sorted:',heap_sort([1,2,3,4,5,6,7,8]))"
   ]
  },
  {
   "cell_type": "code",
   "execution_count": null,
   "id": "927f935e-7699-446e-bc71-aaa79c9df837",
   "metadata": {},
   "outputs": [],
   "source": []
  }
 ],
 "metadata": {
  "kernelspec": {
   "display_name": "aisquad-env",
   "language": "python",
   "name": "aisquad-env"
  },
  "language_info": {
   "codemirror_mode": {
    "name": "ipython",
    "version": 3
   },
   "file_extension": ".py",
   "mimetype": "text/x-python",
   "name": "python",
   "nbconvert_exporter": "python",
   "pygments_lexer": "ipython3",
   "version": "3.10.9"
  }
 },
 "nbformat": 4,
 "nbformat_minor": 5
}
